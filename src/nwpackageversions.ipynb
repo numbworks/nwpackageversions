{
 "cells": [
  {
   "cell_type": "code",
   "execution_count": 20,
   "metadata": {},
   "outputs": [
    {
     "name": "stdout",
     "output_type": "stream",
     "text": [
      "[Package(name='requests', version='2.26.0'), Package(name='beautifulsoup4', version='4.10.0'), Package(name='asyncio', version='3.4.3'), Package(name='lxml', version='4.6.3'), Package(name='typed-astunparse', version='2.1.4'), Package(name='tensorflow-hub', version='0.12.0'), Package(name='Django', version='3.1.5'), Package(name='pytz', version='2022.1'), Package(name='line-profiler', version='1.0'), Package(name='opencv-python', version='4.10.0.84'), Package(name='black', version='22.12.0'), Package(name='certifi', version='2022.12.7'), Package(name='chardet', version='5.1.0'), Package(name='charset-normalizer', version='3.1.0')]\n",
      "['FROM python:3.12.5-bookworm', '', '', 'RUN wget https://github.com/jgm/pandoc/releases/download/3.4/pandoc-3.4-1-amd64.deb \\\\', '    && dpkg -i pandoc-3.4-1-amd64.deb \\\\', '    && rm -f pandoc-3.4-1-amd64.deb']\n"
     ]
    }
   ],
   "source": [
    "from nwpackageversions import StatusChecker, StatusSummary\n",
    "\n",
    "requirements_fp : str = r\"/workspaces/nwpackageversions/docs/ExampleFiles/requirements.txt\"\n",
    "devcontainer_fp : str = r\"/workspaces/nwpackageversions/docs/ExampleFiles/Dockerfile\"\n",
    "\n",
    "status_checker : StatusChecker = StatusChecker()\n",
    "status_checker.try_check(file_path = requirements_fp)\n"
   ]
  }
 ],
 "metadata": {
  "kernelspec": {
   "display_name": "Python 3",
   "language": "python",
   "name": "python3"
  },
  "language_info": {
   "codemirror_mode": {
    "name": "ipython",
    "version": 3
   },
   "file_extension": ".py",
   "mimetype": "text/x-python",
   "name": "python",
   "nbconvert_exporter": "python",
   "pygments_lexer": "ipython3",
   "version": "3.12.5"
  }
 },
 "nbformat": 4,
 "nbformat_minor": 2
}
