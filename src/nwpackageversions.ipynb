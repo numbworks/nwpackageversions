{
 "cells": [
  {
   "cell_type": "code",
   "execution_count": 17,
   "metadata": {},
   "outputs": [
    {
     "name": "stdout",
     "output_type": "stream",
     "text": [
      "[]\n",
      "['FROM python:3.12.5-bookworm', '', 'RUN pip install requests==2.26.0', 'RUN pip install beautifulsoup4==4.10.0', 'RUN pip install asyncio==3.4.3', 'RUN pip install lxml==4.6.3', 'RUN pip install typed-astunparse==2.1.4', 'RUN pip install tensorflow-hub==0.12.0', 'RUN pip install Django==3.1.5', 'RUN pip install pytz==2022.1', 'RUN pip install line-profiler==1.0b3', 'RUN pip install opencv-python==4.10.0.84', 'RUN pip install black==22.12.0', 'RUN pip install certifi==2022.12.7', 'RUN pip install chardet==5.1.0', 'RUN pip install charset-normalizer==3.1.0', '', 'RUN wget https://github.com/jgm/pandoc/releases/download/3.4/pandoc-3.4-1-amd64.deb \\\\', '    && dpkg -i pandoc-3.4-1-amd64.deb \\\\', '    && rm -f pandoc-3.4-1-amd64.deb']\n"
     ]
    }
   ],
   "source": [
    "from nwpackageversions import PyPiReleaseManager, FSession, LSession\n",
    "\n",
    "release_manager : PyPiReleaseManager = PyPiReleaseManager()\n",
    "\n",
    "# session : Session = release_manager.fetch(package_name = \"pandas\", only_final_releases = True)\n",
    "# print(session)\n",
    "# release_manager.log_list(lst = session.releases)\n",
    "# release_manager.log_list(lst = session.xml_items)\n",
    "\n",
    "# l_session : LSession = release_manager.load_from_requirements(file_path = r\"/workspaces/nwpackageversions/docs/ExampleFiles/requirements.txt\")\n",
    "l_session : LSession = release_manager.load_from_dockerfile(file_path = r\"/workspaces/nwpackageversions/docs/ExampleFiles/Dockerfile\")\n",
    "print(l_session.packages)\n",
    "print(l_session.unparsed_lines)\n"
   ]
  },
  {
   "cell_type": "code",
   "execution_count": null,
   "metadata": {},
   "outputs": [],
   "source": []
  }
 ],
 "metadata": {
  "kernelspec": {
   "display_name": "Python 3",
   "language": "python",
   "name": "python3"
  },
  "language_info": {
   "codemirror_mode": {
    "name": "ipython",
    "version": 3
   },
   "file_extension": ".py",
   "mimetype": "text/x-python",
   "name": "python",
   "nbconvert_exporter": "python",
   "pygments_lexer": "ipython3",
   "version": "3.12.5"
  }
 },
 "nbformat": 4,
 "nbformat_minor": 2
}
