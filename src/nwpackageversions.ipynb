{
 "cells": [
  {
   "cell_type": "code",
   "execution_count": 6,
   "metadata": {},
   "outputs": [
    {
     "name": "stdout",
     "output_type": "stream",
     "text": [
      "{ 'package_name': 'numpy', 'version': '2.1.2', 'date': '2024-10-05' }\n",
      "{ 'package_name': 'numpy', 'version': '2.1.1', 'date': '2024-09-03' }\n",
      "{ 'package_name': 'numpy', 'version': '2.0.2', 'date': '2024-08-26' }\n",
      "{ 'package_name': 'numpy', 'version': '2.1.0', 'date': '2024-08-18' }\n",
      "{ 'package_name': 'numpy', 'version': '2.0.1', 'date': '2024-07-21' }\n",
      "{ 'package_name': 'numpy', 'version': '2.0.0', 'date': '2024-06-16' }\n",
      "{ 'package_name': 'numpy', 'version': '1.26.4', 'date': '2024-02-05' }\n",
      "{ 'package_name': 'numpy', 'version': '1.26.3', 'date': '2024-01-02' }\n",
      "{ 'package_name': 'numpy', 'version': '1.26.2', 'date': '2023-11-12' }\n",
      "{ 'package_name': 'numpy', 'version': '1.26.1', 'date': '2023-10-14' }\n",
      "{ 'package_name': 'numpy', 'version': '1.26.0', 'date': '2023-09-16' }\n",
      "{ 'package_name': 'numpy', 'version': '1.25.2', 'date': '2023-07-31' }\n",
      "{ 'package_name': 'numpy', 'version': '1.25.1', 'date': '2023-07-08' }\n",
      "{ 'package_name': 'numpy', 'version': '1.24.4', 'date': '2023-06-26' }\n",
      "{ 'package_name': 'numpy', 'version': '1.25.0', 'date': '2023-06-17' }\n",
      "{ 'package_name': 'numpy', 'version': '1.24.3', 'date': '2023-04-22' }\n",
      "{ 'package_name': 'numpy', 'version': '1.24.2', 'date': '2023-02-05' }\n",
      "{ 'package_name': 'numpy', 'version': '1.24.1', 'date': '2022-12-26' }\n",
      "{ 'package_name': 'numpy', 'version': '1.24.0', 'date': '2022-12-18' }\n",
      "{ 'package_name': 'numpy', 'version': '1.23.5', 'date': '2022-11-20' }\n",
      "{ 'package_name': 'numpy', 'version': '1.23.4', 'date': '2022-10-12' }\n",
      "{ 'package_name': 'numpy', 'version': '1.23.3', 'date': '2022-09-09' }\n",
      "{ 'package_name': 'numpy', 'version': '1.23.2', 'date': '2022-08-14' }\n",
      "{ 'package_name': 'numpy', 'version': '1.23.1', 'date': '2022-07-09' }\n",
      "{ 'package_name': 'numpy', 'version': '1.23.0', 'date': '2022-06-22' }\n",
      "{ 'package_name': 'numpy', 'version': '1.22.4', 'date': '2022-05-20' }\n",
      "{ 'package_name': 'numpy', 'version': '1.21.6', 'date': '2022-04-12' }\n",
      "{ 'package_name': 'numpy', 'version': '1.22.3', 'date': '2022-03-07' }\n",
      "{ 'package_name': 'numpy', 'version': '1.22.2', 'date': '2022-02-04' }\n",
      "{ 'package_name': 'numpy', 'version': '1.22.1', 'date': '2022-01-14' }\n",
      "{ 'package_name': 'numpy', 'version': '1.22.0', 'date': '2021-12-31' }\n",
      "{ 'package_name': 'numpy', 'version': '1.21.5', 'date': '2021-12-19' }\n",
      "{ 'package_name': 'numpy', 'version': '1.21.4', 'date': '2021-11-05' }\n",
      "{ 'package_name': 'numpy', 'version': '1.21.3', 'date': '2021-10-20' }\n",
      "{ 'package_name': 'numpy', 'version': '1.21.2', 'date': '2021-08-15' }\n",
      "{ 'package_name': 'numpy', 'version': '1.21.1', 'date': '2021-07-18' }\n",
      "{ 'package_name': 'numpy', 'version': '1.21.0', 'date': '2021-06-22' }\n",
      "{ 'package_name': 'numpy', 'version': '1.20.3', 'date': '2021-05-10' }\n",
      "{ 'package_name': 'numpy', 'version': '1.20.2', 'date': '2021-03-27' }\n"
     ]
    }
   ],
   "source": [
    "from nwpackageversions import PyPiReleaseManager, Session\n",
    "\n",
    "release_manager : PyPiReleaseManager = PyPiReleaseManager()\n",
    "session : Session = release_manager.fetch(package_name = \"numpy\", only_final_releases = True)\n",
    "# release_manager.log_session(session = session)\n",
    "# release_manager.log_releases(releases = session.releases)\n",
    "release_manager.log_list(lst = session.releases)"
   ]
  },
  {
   "cell_type": "code",
   "execution_count": null,
   "metadata": {},
   "outputs": [],
   "source": []
  }
 ],
 "metadata": {
  "kernelspec": {
   "display_name": "Python 3",
   "language": "python",
   "name": "python3"
  },
  "language_info": {
   "codemirror_mode": {
    "name": "ipython",
    "version": 3
   },
   "file_extension": ".py",
   "mimetype": "text/x-python",
   "name": "python",
   "nbconvert_exporter": "python",
   "pygments_lexer": "ipython3",
   "version": "3.12.5"
  }
 },
 "nbformat": 4,
 "nbformat_minor": 2
}
