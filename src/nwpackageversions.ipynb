{
 "cells": [
  {
   "cell_type": "code",
   "execution_count": 9,
   "metadata": {},
   "outputs": [
    {
     "name": "stdout",
     "output_type": "stream",
     "text": [
      "{ 'title': '2.1.2', 'link': 'https://pypi.org/project/numpy/2.1.2/', 'description': 'Fundamental package for array computing in Python', 'author': 'None', 'pubdate_str': 'Sat, 05 Oct 2024 18:28:18 GMT' }\n",
      "{ 'title': '2.1.1', 'link': 'https://pypi.org/project/numpy/2.1.1/', 'description': 'Fundamental package for array computing in Python', 'author': 'None', 'pubdate_str': 'Tue, 03 Sep 2024 15:01:06 GMT' }\n",
      "{ 'title': '2.0.2', 'link': 'https://pypi.org/project/numpy/2.0.2/', 'description': 'Fundamental package for array computing in Python', 'author': 'None', 'pubdate_str': 'Mon, 26 Aug 2024 20:04:14 GMT' }\n",
      "{ 'title': '2.1.0', 'link': 'https://pypi.org/project/numpy/2.1.0/', 'description': 'Fundamental package for array computing in Python', 'author': 'None', 'pubdate_str': 'Sun, 18 Aug 2024 21:39:07 GMT' }\n",
      "{ 'title': '2.1.0rc1', 'link': 'https://pypi.org/project/numpy/2.1.0rc1/', 'description': 'Fundamental package for array computing in Python', 'author': 'None', 'pubdate_str': 'Sun, 11 Aug 2024 18:14:11 GMT' }\n",
      "{ 'title': '2.0.1', 'link': 'https://pypi.org/project/numpy/2.0.1/', 'description': 'Fundamental package for array computing in Python', 'author': 'None', 'pubdate_str': 'Sun, 21 Jul 2024 13:29:55 GMT' }\n",
      "{ 'title': '2.0.0', 'link': 'https://pypi.org/project/numpy/2.0.0/', 'description': 'Fundamental package for array computing in Python', 'author': 'None', 'pubdate_str': 'Sun, 16 Jun 2024 13:06:46 GMT' }\n",
      "{ 'title': '1.26.4', 'link': 'https://pypi.org/project/numpy/1.26.4/', 'description': 'Fundamental package for array computing in Python', 'author': 'None', 'pubdate_str': 'Mon, 05 Feb 2024 23:48:01 GMT' }\n",
      "{ 'title': '1.26.3', 'link': 'https://pypi.org/project/numpy/1.26.3/', 'description': 'Fundamental package for array computing in Python', 'author': 'None', 'pubdate_str': 'Tue, 02 Jan 2024 22:20:37 GMT' }\n",
      "{ 'title': '1.26.2', 'link': 'https://pypi.org/project/numpy/1.26.2/', 'description': 'Fundamental package for array computing in Python', 'author': 'None', 'pubdate_str': 'Sun, 12 Nov 2023 22:51:49 GMT' }\n",
      "{ 'title': '1.26.1', 'link': 'https://pypi.org/project/numpy/1.26.1/', 'description': 'Fundamental package for array computing in Python', 'author': 'None', 'pubdate_str': 'Sat, 14 Oct 2023 19:39:25 GMT' }\n",
      "{ 'title': '1.26.0', 'link': 'https://pypi.org/project/numpy/1.26.0/', 'description': 'Fundamental package for array computing in Python', 'author': 'None', 'pubdate_str': 'Sat, 16 Sep 2023 19:58:18 GMT' }\n",
      "{ 'title': '1.25.2', 'link': 'https://pypi.org/project/numpy/1.25.2/', 'description': 'Fundamental package for array computing in Python', 'author': 'None', 'pubdate_str': 'Mon, 31 Jul 2023 14:50:49 GMT' }\n",
      "{ 'title': '1.25.1', 'link': 'https://pypi.org/project/numpy/1.25.1/', 'description': 'Fundamental package for array computing in Python', 'author': 'None', 'pubdate_str': 'Sat, 08 Jul 2023 21:38:33 GMT' }\n",
      "{ 'title': '1.24.4', 'link': 'https://pypi.org/project/numpy/1.24.4/', 'description': 'Fundamental package for array computing in Python', 'author': 'None', 'pubdate_str': 'Mon, 26 Jun 2023 13:22:33 GMT' }\n",
      "{ 'title': '1.25.0', 'link': 'https://pypi.org/project/numpy/1.25.0/', 'description': 'Fundamental package for array computing in Python', 'author': 'None', 'pubdate_str': 'Sat, 17 Jun 2023 14:38:18 GMT' }\n",
      "{ 'title': '1.24.3', 'link': 'https://pypi.org/project/numpy/1.24.3/', 'description': 'Fundamental package for array computing in Python', 'author': 'None', 'pubdate_str': 'Sat, 22 Apr 2023 21:29:36 GMT' }\n",
      "{ 'title': '1.24.2', 'link': 'https://pypi.org/project/numpy/1.24.2/', 'description': 'Fundamental package for array computing in Python', 'author': 'None', 'pubdate_str': 'Sun, 05 Feb 2023 19:45:29 GMT' }\n",
      "{ 'title': '1.24.1', 'link': 'https://pypi.org/project/numpy/1.24.1/', 'description': 'Fundamental package for array computing in Python', 'author': 'None', 'pubdate_str': 'Mon, 26 Dec 2022 13:37:55 GMT' }\n",
      "{ 'title': '1.24.0', 'link': 'https://pypi.org/project/numpy/1.24.0/', 'description': 'Fundamental package for array computing in Python', 'author': 'None', 'pubdate_str': 'Sun, 18 Dec 2022 17:53:12 GMT' }\n",
      "{ 'title': '1.23.5', 'link': 'https://pypi.org/project/numpy/1.23.5/', 'description': 'NumPy is the fundamental package for array computing with Python.', 'author': 'None', 'pubdate_str': 'Sun, 20 Nov 2022 01:21:22 GMT' }\n",
      "{ 'title': '1.23.4', 'link': 'https://pypi.org/project/numpy/1.23.4/', 'description': 'NumPy is the fundamental package for array computing with Python.', 'author': 'None', 'pubdate_str': 'Wed, 12 Oct 2022 14:42:05 GMT' }\n",
      "{ 'title': '1.23.3', 'link': 'https://pypi.org/project/numpy/1.23.3/', 'description': 'NumPy is the fundamental package for array computing with Python.', 'author': 'None', 'pubdate_str': 'Fri, 09 Sep 2022 17:48:27 GMT' }\n",
      "{ 'title': '1.23.2', 'link': 'https://pypi.org/project/numpy/1.23.2/', 'description': 'NumPy is the fundamental package for array computing with Python.', 'author': 'None', 'pubdate_str': 'Sun, 14 Aug 2022 00:14:09 GMT' }\n",
      "{ 'title': '1.23.1', 'link': 'https://pypi.org/project/numpy/1.23.1/', 'description': 'NumPy is the fundamental package for array computing with Python.', 'author': 'None', 'pubdate_str': 'Sat, 09 Jul 2022 01:07:24 GMT' }\n",
      "{ 'title': '1.23.0', 'link': 'https://pypi.org/project/numpy/1.23.0/', 'description': 'NumPy is the fundamental package for array computing with Python.', 'author': 'None', 'pubdate_str': 'Wed, 22 Jun 2022 22:13:34 GMT' }\n",
      "{ 'title': '1.22.4', 'link': 'https://pypi.org/project/numpy/1.22.4/', 'description': 'NumPy is the fundamental package for array computing with Python.', 'author': 'None', 'pubdate_str': 'Fri, 20 May 2022 20:50:53 GMT' }\n",
      "{ 'title': '1.21.6', 'link': 'https://pypi.org/project/numpy/1.21.6/', 'description': 'NumPy is the fundamental package for array computing with Python.', 'author': 'None', 'pubdate_str': 'Tue, 12 Apr 2022 14:48:15 GMT' }\n",
      "{ 'title': '1.22.3', 'link': 'https://pypi.org/project/numpy/1.22.3/', 'description': 'NumPy is the fundamental package for array computing with Python.', 'author': 'None', 'pubdate_str': 'Mon, 07 Mar 2022 22:39:39 GMT' }\n",
      "{ 'title': '1.22.2', 'link': 'https://pypi.org/project/numpy/1.22.2/', 'description': 'NumPy is the fundamental package for array computing with Python.', 'author': 'None', 'pubdate_str': 'Fri, 04 Feb 2022 00:30:48 GMT' }\n",
      "{ 'title': '1.22.1', 'link': 'https://pypi.org/project/numpy/1.22.1/', 'description': 'NumPy is the fundamental package for array computing with Python.', 'author': 'None', 'pubdate_str': 'Fri, 14 Jan 2022 18:52:16 GMT' }\n",
      "{ 'title': '1.22.0', 'link': 'https://pypi.org/project/numpy/1.22.0/', 'description': 'NumPy is the fundamental package for array computing with Python.', 'author': 'None', 'pubdate_str': 'Fri, 31 Dec 2021 20:32:18 GMT' }\n",
      "{ 'title': '1.21.5', 'link': 'https://pypi.org/project/numpy/1.21.5/', 'description': 'NumPy is the fundamental package for array computing with Python.', 'author': 'None', 'pubdate_str': 'Sun, 19 Dec 2021 23:58:44 GMT' }\n",
      "{ 'title': '1.21.4', 'link': 'https://pypi.org/project/numpy/1.21.4/', 'description': 'NumPy is the fundamental package for array computing with Python.', 'author': 'None', 'pubdate_str': 'Fri, 05 Nov 2021 01:20:44 GMT' }\n",
      "{ 'title': '1.21.3', 'link': 'https://pypi.org/project/numpy/1.21.3/', 'description': 'NumPy is the fundamental package for array computing with Python.', 'author': 'None', 'pubdate_str': 'Wed, 20 Oct 2021 20:17:59 GMT' }\n",
      "{ 'title': '1.21.2', 'link': 'https://pypi.org/project/numpy/1.21.2/', 'description': 'NumPy is the fundamental package for array computing with Python.', 'author': 'None', 'pubdate_str': 'Sun, 15 Aug 2021 20:07:03 GMT' }\n",
      "{ 'title': '1.21.1', 'link': 'https://pypi.org/project/numpy/1.21.1/', 'description': 'NumPy is the fundamental package for array computing with Python.', 'author': 'None', 'pubdate_str': 'Sun, 18 Jul 2021 19:37:41 GMT' }\n",
      "{ 'title': '1.21.0', 'link': 'https://pypi.org/project/numpy/1.21.0/', 'description': 'NumPy is the fundamental package for array computing with Python.', 'author': 'None', 'pubdate_str': 'Tue, 22 Jun 2021 13:39:59 GMT' }\n",
      "{ 'title': '1.20.3', 'link': 'https://pypi.org/project/numpy/1.20.3/', 'description': 'NumPy is the fundamental package for array computing with Python.', 'author': 'None', 'pubdate_str': 'Mon, 10 May 2021 15:17:40 GMT' }\n",
      "{ 'title': '1.20.2', 'link': 'https://pypi.org/project/numpy/1.20.2/', 'description': 'NumPy is the fundamental package for array computing with Python.', 'author': 'None', 'pubdate_str': 'Sat, 27 Mar 2021 22:16:26 GMT' }\n"
     ]
    }
   ],
   "source": [
    "from nwpackageversions import PyPiReleaseManager, Session\n",
    "\n",
    "release_manager : PyPiReleaseManager = PyPiReleaseManager()\n",
    "session : Session = release_manager.fetch(package_name = \"numpy\", only_final_releases = True)\n",
    "# release_manager.log_session(session = session)\n",
    "# release_manager.log_releases(releases = session.releases)\n",
    "# release_manager.log_list(lst = session.releases)\n",
    "release_manager.log_list(lst = session.xml_items)"
   ]
  },
  {
   "cell_type": "code",
   "execution_count": null,
   "metadata": {},
   "outputs": [],
   "source": []
  }
 ],
 "metadata": {
  "kernelspec": {
   "display_name": "Python 3",
   "language": "python",
   "name": "python3"
  },
  "language_info": {
   "codemirror_mode": {
    "name": "ipython",
    "version": 3
   },
   "file_extension": ".py",
   "mimetype": "text/x-python",
   "name": "python",
   "nbconvert_exporter": "python",
   "pygments_lexer": "ipython3",
   "version": "3.12.5"
  }
 },
 "nbformat": 4,
 "nbformat_minor": 2
}
