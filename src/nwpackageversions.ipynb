{
 "cells": [
  {
   "cell_type": "code",
   "execution_count": 27,
   "metadata": {},
   "outputs": [
    {
     "name": "stdout",
     "output_type": "stream",
     "text": [
      "The status checking operation has started!\n",
      "The list of local packages will be loaded from the following 'file_path': '/workspaces/nwpackageversions/docs/ExampleFiles/Dockerfile'.\n",
      "The 'waiting_time' between each fetching request will be: '5' seconds.\n",
      "'7' local packages has been found and successfully loaded.\n",
      "'4' unparsed lines.\n",
      "These are: ['FROM python:3.12.5-bookworm', 'RUN wget https://github.com/jgm/pandoc/releases/download/3.4/pandoc-3.4-1-amd64.deb \\\\', '    && dpkg -i pandoc-3.4-1-amd64.deb \\\\', '    && rm -f pandoc-3.4-1-amd64.deb']\n",
      "Now starting to evaluate the status of each local package...\n"
     ]
    },
    {
     "ename": "KeyboardInterrupt",
     "evalue": "",
     "output_type": "error",
     "traceback": [
      "\u001b[0;31m---------------------------------------------------------------------------\u001b[0m",
      "\u001b[0;31mKeyboardInterrupt\u001b[0m                         Traceback (most recent call last)",
      "Cell \u001b[0;32mIn[27], line 8\u001b[0m\n\u001b[1;32m      5\u001b[0m devcontainer_fp : \u001b[38;5;28mstr\u001b[39m \u001b[38;5;241m=\u001b[39m \u001b[38;5;124mr\u001b[39m\u001b[38;5;124m\"\u001b[39m\u001b[38;5;124m/workspaces/nwpackageversions/docs/ExampleFiles/Dockerfile\u001b[39m\u001b[38;5;124m\"\u001b[39m\n\u001b[1;32m      7\u001b[0m status_checker : StatusChecker \u001b[38;5;241m=\u001b[39m StatusChecker()\n\u001b[0;32m----> 8\u001b[0m status_summary : Optional[StatusSummary] \u001b[38;5;241m=\u001b[39m \u001b[43mstatus_checker\u001b[49m\u001b[38;5;241;43m.\u001b[39;49m\u001b[43mtry_check\u001b[49m\u001b[43m(\u001b[49m\u001b[43mfile_path\u001b[49m\u001b[43m \u001b[49m\u001b[38;5;241;43m=\u001b[39;49m\u001b[43m \u001b[49m\u001b[43mdevcontainer_fp\u001b[49m\u001b[43m)\u001b[49m\n",
      "File \u001b[0;32m/workspaces/nwpackageversions/src/nwpackageversions.py:766\u001b[0m, in \u001b[0;36mStatusChecker.try_check\u001b[0;34m(self, file_path, waiting_time)\u001b[0m\n\u001b[1;32m    759\u001b[0m \u001b[38;5;250m\u001b[39m\u001b[38;5;124;03m'''\u001b[39;00m\n\u001b[1;32m    760\u001b[0m \u001b[38;5;124;03m    It performs the same operations as check().\u001b[39;00m\n\u001b[1;32m    761\u001b[0m \u001b[38;5;124;03m    It doesn't raise an Exception if an issue arises, but it logs it and returns None.\u001b[39;00m\n\u001b[1;32m    762\u001b[0m \u001b[38;5;124;03m'''\u001b[39;00m\n\u001b[1;32m    764\u001b[0m \u001b[38;5;28;01mtry\u001b[39;00m:\n\u001b[0;32m--> 766\u001b[0m     \u001b[38;5;28;01mreturn\u001b[39;00m \u001b[38;5;28;43mself\u001b[39;49m\u001b[38;5;241;43m.\u001b[39;49m\u001b[43mcheck\u001b[49m\u001b[43m(\u001b[49m\u001b[43mfile_path\u001b[49m\u001b[43m \u001b[49m\u001b[38;5;241;43m=\u001b[39;49m\u001b[43m \u001b[49m\u001b[43mfile_path\u001b[49m\u001b[43m,\u001b[49m\u001b[43m \u001b[49m\u001b[43mwaiting_time\u001b[49m\u001b[43m \u001b[49m\u001b[38;5;241;43m=\u001b[39;49m\u001b[43m \u001b[49m\u001b[43mwaiting_time\u001b[49m\u001b[43m)\u001b[49m\n\u001b[1;32m    768\u001b[0m \u001b[38;5;28;01mexcept\u001b[39;00m \u001b[38;5;167;01mException\u001b[39;00m \u001b[38;5;28;01mas\u001b[39;00m e:\n\u001b[1;32m    770\u001b[0m     \u001b[38;5;28mself\u001b[39m\u001b[38;5;241m.\u001b[39m__logging_function(\u001b[38;5;28mstr\u001b[39m(e))\n",
      "File \u001b[0;32m/workspaces/nwpackageversions/src/nwpackageversions.py:744\u001b[0m, in \u001b[0;36mStatusChecker.check\u001b[0;34m(self, file_path, waiting_time)\u001b[0m\n\u001b[1;32m    741\u001b[0m \u001b[38;5;28mself\u001b[39m\u001b[38;5;241m.\u001b[39m__logging_function(_MessageCollection\u001b[38;5;241m.\u001b[39mx_unparsed_lines(l_session\u001b[38;5;241m.\u001b[39munparsed_lines))\n\u001b[1;32m    742\u001b[0m \u001b[38;5;28mself\u001b[39m\u001b[38;5;241m.\u001b[39m__logging_function(_MessageCollection\u001b[38;5;241m.\u001b[39mstarting_to_evaluate_status_local_package())\n\u001b[0;32m--> 744\u001b[0m status_details : \u001b[38;5;28mlist\u001b[39m[StatusDetail] \u001b[38;5;241m=\u001b[39m \u001b[38;5;28;43mself\u001b[39;49m\u001b[38;5;241;43m.\u001b[39;49m\u001b[43m__create_status_details\u001b[49m\u001b[43m(\u001b[49m\u001b[43ml_session\u001b[49m\u001b[43m \u001b[49m\u001b[38;5;241;43m=\u001b[39;49m\u001b[43m \u001b[49m\u001b[43ml_session\u001b[49m\u001b[43m,\u001b[49m\u001b[43m \u001b[49m\u001b[43mwaiting_time\u001b[49m\u001b[43m \u001b[49m\u001b[38;5;241;43m=\u001b[39;49m\u001b[43m \u001b[49m\u001b[43mwaiting_time\u001b[49m\u001b[43m)\u001b[49m\n\u001b[1;32m    746\u001b[0m \u001b[38;5;28mself\u001b[39m\u001b[38;5;241m.\u001b[39m__logging_function(_MessageCollection\u001b[38;5;241m.\u001b[39mstatus_evaluation_operation_successfully_loaded())\n\u001b[1;32m    747\u001b[0m \u001b[38;5;28mself\u001b[39m\u001b[38;5;241m.\u001b[39m__list_logging_function(status_details)\n",
      "File \u001b[0;32m/workspaces/nwpackageversions/src/nwpackageversions.py:681\u001b[0m, in \u001b[0;36mStatusChecker.__create_status_details\u001b[0;34m(self, l_session, waiting_time)\u001b[0m\n\u001b[1;32m    675\u001b[0m     status_detail : StatusDetail \u001b[38;5;241m=\u001b[39m \u001b[38;5;28mself\u001b[39m\u001b[38;5;241m.\u001b[39m__create_status_detail(\n\u001b[1;32m    676\u001b[0m         current_package \u001b[38;5;241m=\u001b[39m current_package, \n\u001b[1;32m    677\u001b[0m         most_recent_release \u001b[38;5;241m=\u001b[39m f_session\u001b[38;5;241m.\u001b[39mmost_recent_release\n\u001b[1;32m    678\u001b[0m     )\n\u001b[1;32m    679\u001b[0m     status_details\u001b[38;5;241m.\u001b[39mappend(status_detail)\n\u001b[0;32m--> 681\u001b[0m     \u001b[38;5;28;43mself\u001b[39;49m\u001b[38;5;241;43m.\u001b[39;49m\u001b[43m__sleeping_function\u001b[49m\u001b[43m(\u001b[49m\u001b[43mwaiting_time\u001b[49m\u001b[43m)\u001b[49m\n\u001b[1;32m    683\u001b[0m \u001b[38;5;28;01mreturn\u001b[39;00m status_details\n",
      "File \u001b[0;32m/workspaces/nwpackageversions/src/nwpackageversions.py:200\u001b[0m, in \u001b[0;36mLambdaCollection.sleeping_function.<locals>.<lambda>\u001b[0;34m(waiting_time)\u001b[0m\n\u001b[1;32m    195\u001b[0m \u001b[38;5;129m@staticmethod\u001b[39m\n\u001b[1;32m    196\u001b[0m \u001b[38;5;28;01mdef\u001b[39;00m \u001b[38;5;21msleeping_function\u001b[39m() \u001b[38;5;241m-\u001b[39m\u001b[38;5;241m>\u001b[39m Callable[[\u001b[38;5;28mint\u001b[39m], \u001b[38;5;28;01mNone\u001b[39;00m]:\n\u001b[1;32m    198\u001b[0m \u001b[38;5;250m    \u001b[39m\u001b[38;5;124;03m'''An adapter around time.sleep().'''\u001b[39;00m\n\u001b[0;32m--> 200\u001b[0m     \u001b[38;5;28;01mreturn\u001b[39;00m \u001b[38;5;28;01mlambda\u001b[39;00m waiting_time : \u001b[43msleep\u001b[49m\u001b[43m(\u001b[49m\u001b[43mcast\u001b[49m\u001b[43m(\u001b[49m\u001b[38;5;28;43mfloat\u001b[39;49m\u001b[43m,\u001b[49m\u001b[43m \u001b[49m\u001b[43mwaiting_time\u001b[49m\u001b[43m)\u001b[49m\u001b[43m)\u001b[49m\n",
      "\u001b[0;31mKeyboardInterrupt\u001b[0m: "
     ]
    }
   ],
   "source": [
    "from typing import Optional\n",
    "from nwpackageversions import StatusChecker, StatusSummary\n",
    "\n",
    "requirements_fp : str = r\"/workspaces/nwpackageversions/docs/ExampleFiles/requirements.txt\"\n",
    "devcontainer_fp : str = r\"/workspaces/nwpackageversions/docs/ExampleFiles/Dockerfile\"\n",
    "\n",
    "status_checker : StatusChecker = StatusChecker()\n",
    "status_summary : Optional[StatusSummary] = status_checker.try_check(file_path = devcontainer_fp)\n"
   ]
  }
 ],
 "metadata": {
  "kernelspec": {
   "display_name": "Python 3",
   "language": "python",
   "name": "python3"
  },
  "language_info": {
   "codemirror_mode": {
    "name": "ipython",
    "version": 3
   },
   "file_extension": ".py",
   "mimetype": "text/x-python",
   "name": "python",
   "nbconvert_exporter": "python",
   "pygments_lexer": "ipython3",
   "version": "3.12.5"
  }
 },
 "nbformat": 4,
 "nbformat_minor": 2
}
