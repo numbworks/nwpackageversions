{
 "cells": [
  {
   "cell_type": "code",
   "execution_count": 28,
   "metadata": {},
   "outputs": [
    {
     "name": "stdout",
     "output_type": "stream",
     "text": [
      "The status checking operation has started!\n",
      "The list of local packages will be loaded from the following 'file_path': '/workspaces/nwpackageversions/docs/ExampleFiles/Dockerfile'.\n",
      "The 'waiting_time' between each fetching request will be: '5' seconds.\n",
      "'7' local packages has been found and successfully loaded.\n",
      "'4' unparsed lines.\n",
      "These are: ['FROM python:3.12.5-bookworm', 'RUN wget https://github.com/jgm/pandoc/releases/download/3.4/pandoc-3.4-1-amd64.deb \\\\', '    && dpkg -i pandoc-3.4-1-amd64.deb \\\\', '    && rm -f pandoc-3.4-1-amd64.deb']\n",
      "Now starting to evaluate the status of each local package...\n",
      "The status evaluation operation has been successfully completed.\n",
      "{ 'description': 'The current version ('1.26.3') of 'numpy' doesn't match with the most recent release ('2.1.2', '2024-10-05').' }\n",
      "{ 'description': 'The current version ('15.0.0') of 'pyarrow' doesn't match with the most recent release ('17.0.0', '2024-07-16').' }\n",
      "{ 'description': 'The current version ('2.2.0') of 'pandas' doesn't match with the most recent release ('2.2.3', '2024-09-20').' }\n",
      "{ 'description': 'The current version ('2.31.0') of 'requests' doesn't match with the most recent release ('2.32.3', '2024-05-29').' }\n",
      "{ 'description': 'The current version ('3.8.2') of 'matplotlib' doesn't match with the most recent release ('3.9.2', '2024-08-13').' }\n",
      "{ 'description': 'The current version ('7.6.1') of 'coverage' matches with the most recent release ('7.6.1', '2024-08-04').' }\n",
      "{ 'description': 'The current version ('0.9.0') of 'parameterized' matches with the most recent release ('0.9.0', '2023-03-27').' }\n",
      "Now starting the creation of a status summary...\n",
      "The status summary has been successfully created.\n",
      "{ 'total_packages': '7', 'matching': '2', 'matching_prc': '28.57%', 'mismatching': '5', 'mismatching_prc': '71.43%' }\n",
      "The status checking operation has been completed.\n"
     ]
    }
   ],
   "source": [
    "from typing import Optional\n",
    "from nwpackageversions import StatusChecker, StatusSummary\n",
    "\n",
    "requirements_fp : str = r\"/workspaces/nwpackageversions/docs/ExampleFiles/requirements.txt\"\n",
    "devcontainer_fp : str = r\"/workspaces/nwpackageversions/docs/ExampleFiles/Dockerfile\"\n",
    "\n",
    "status_checker : StatusChecker = StatusChecker()\n",
    "status_summary : Optional[StatusSummary] = status_checker.try_check(file_path = devcontainer_fp)\n"
   ]
  }
 ],
 "metadata": {
  "kernelspec": {
   "display_name": "Python 3",
   "language": "python",
   "name": "python3"
  },
  "language_info": {
   "codemirror_mode": {
    "name": "ipython",
    "version": 3
   },
   "file_extension": ".py",
   "mimetype": "text/x-python",
   "name": "python",
   "nbconvert_exporter": "python",
   "pygments_lexer": "ipython3",
   "version": "3.12.5"
  }
 },
 "nbformat": 4,
 "nbformat_minor": 2
}
