{
 "cells": [
  {
   "cell_type": "markdown",
   "metadata": {},
   "source": [
    "|||\n",
    "|---|---|\n",
    "|Title|nwpackageversions|\n",
    "|Author|numbworks|\n",
    "|Version|1.8.0|\n",
    "||Please check [docs/docs-nwpackageversions.md](../docs/docs-nwpackageversions.md) before proceeding.|"
   ]
  },
  {
   "cell_type": "markdown",
   "metadata": {},
   "source": [
    "#### Demo"
   ]
  },
  {
   "cell_type": "code",
   "execution_count": 1,
   "metadata": {},
   "outputs": [
    {
     "name": "stdout",
     "output_type": "stream",
     "text": [
      "The installed Python version is matching the expected one (installed: '3.12.5', expected: '3.12.5').\n"
     ]
    }
   ],
   "source": [
    "from typing import Optional, cast\n",
    "from nwpackageversions import RequirementChecker, RequirementSummary, LanguageChecker\n",
    "\n",
    "print(LanguageChecker().get_version_status(required = (3, 12, 5)))"
   ]
  },
  {
   "cell_type": "code",
   "execution_count": 2,
   "metadata": {},
   "outputs": [
    {
     "name": "stdout",
     "output_type": "stream",
     "text": [
      "The status checking operation has started!\n",
      "The list of local packages will be loaded from the following 'file_path': '/workspaces/nwpackageversions/data/requirements_demo.txt'.\n",
      "The 'waiting_time' between each fetching request will be: '5' seconds.\n",
      "'3' local packages has been found and successfully loaded.\n",
      "'0' unparsed lines.\n",
      "Now starting to evaluate the status of each local package...\n",
      "The total estimated time to complete the whole operation will be: '15' seconds.\n",
      "The status evaluation operation has been successfully completed.\n",
      "{ 'description': 'The current version ('2.32.3') of 'requests' matches with the most recent release ('2.32.3', '2024-05-29').' }\n",
      "{ 'description': 'The current version ('4.10.0') of 'beautifulsoup4' doesn't match with the most recent release ('4.13.0b2', '2024-03-20').' }\n",
      "{ 'description': 'The current version ('3.4.3') of 'asyncio' matches with the most recent release ('3.4.3', '2015-03-10').' }\n",
      "Now starting the creation of a requirement summary...\n",
      "The requirement summary has been successfully created.\n",
      "{ 'total_packages': '3', 'matching': '2', 'matching_prc': '66.67%', 'mismatching': '1', 'mismatching_prc': '33.33%' }\n",
      "The status checking operation has been completed.\n"
     ]
    }
   ],
   "source": [
    "requirements_fp : str = r\"/workspaces/nwpackageversions/data/requirements_demo.txt\"\n",
    "requirement_checker : RequirementChecker = RequirementChecker()\n",
    "requirement_summary : Optional[RequirementSummary] = requirement_checker.try_check(file_path = requirements_fp)"
   ]
  },
  {
   "cell_type": "code",
   "execution_count": 3,
   "metadata": {},
   "outputs": [
    {
     "name": "stdout",
     "output_type": "stream",
     "text": [
      "{ 'total_packages': '3', 'matching': '2', 'matching_prc': '66.67%', 'mismatching': '1', 'mismatching_prc': '33.33%' }\n",
      "{ 'description': 'The current version ('2.32.3') of 'requests' matches with the most recent release ('2.32.3', '2024-05-29').' }\n",
      "{ 'description': 'The current version ('4.10.0') of 'beautifulsoup4' doesn't match with the most recent release ('4.13.0b2', '2024-03-20').' }\n",
      "{ 'description': 'The current version ('3.4.3') of 'asyncio' matches with the most recent release ('3.4.3', '2015-03-10').' }\n"
     ]
    }
   ],
   "source": [
    "requirement_checker.log_requirement_summary(requirement_summary = cast(RequirementSummary, requirement_summary))"
   ]
  }
 ],
 "metadata": {
  "kernelspec": {
   "display_name": "Python 3",
   "language": "python",
   "name": "python3"
  },
  "language_info": {
   "codemirror_mode": {
    "name": "ipython",
    "version": 3
   },
   "file_extension": ".py",
   "mimetype": "text/x-python",
   "name": "python",
   "nbconvert_exporter": "python",
   "pygments_lexer": "ipython3",
   "version": "3.12.5"
  }
 },
 "nbformat": 4,
 "nbformat_minor": 2
}
