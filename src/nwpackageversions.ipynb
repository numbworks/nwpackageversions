{
 "cells": [
  {
   "cell_type": "code",
   "execution_count": 14,
   "metadata": {},
   "outputs": [
    {
     "name": "stdout",
     "output_type": "stream",
     "text": [
      "{ 'package_name': 'pandas', 'most_recent_version': '2.2.3', 'most_recent_date': '2024-09-20', 'releases': '34', 'xml_items': '40' }\n"
     ]
    }
   ],
   "source": [
    "from nwpackageversions import PyPiReleaseManager, Session\n",
    "\n",
    "release_manager : PyPiReleaseManager = PyPiReleaseManager()\n",
    "session : Session = release_manager.fetch(package_name = \"pandas\", only_final_releases = True)\n",
    "\n",
    "print(session)\n",
    "# release_manager.log_list(lst = session.releases)\n",
    "# release_manager.log_list(lst = session.xml_items)"
   ]
  },
  {
   "cell_type": "code",
   "execution_count": null,
   "metadata": {},
   "outputs": [],
   "source": []
  }
 ],
 "metadata": {
  "kernelspec": {
   "display_name": "Python 3",
   "language": "python",
   "name": "python3"
  },
  "language_info": {
   "codemirror_mode": {
    "name": "ipython",
    "version": 3
   },
   "file_extension": ".py",
   "mimetype": "text/x-python",
   "name": "python",
   "nbconvert_exporter": "python",
   "pygments_lexer": "ipython3",
   "version": "3.12.5"
  }
 },
 "nbformat": 4,
 "nbformat_minor": 2
}
