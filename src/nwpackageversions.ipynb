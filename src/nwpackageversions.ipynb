{
 "cells": [
  {
   "cell_type": "markdown",
   "metadata": {},
   "source": [
    "|||\n",
    "|---|---|\n",
    "|Title|nwpackageversions|\n",
    "|Author|numbworks|\n",
    "|Version|1.8.2|\n",
    "||Please check [docs/docs-nwpackageversions.md](../docs/docs-nwpackageversions.md) before proceeding.|"
   ]
  },
  {
   "cell_type": "markdown",
   "metadata": {},
   "source": [
    "#### Demo"
   ]
  },
  {
   "cell_type": "code",
   "execution_count": 1,
   "metadata": {},
   "outputs": [
    {
     "name": "stdout",
     "output_type": "stream",
     "text": [
      "The installed Python version is matching the expected one (installed: '3.12.5', expected: '3.12.5').\n"
     ]
    }
   ],
   "source": [
    "from typing import Optional, cast\n",
    "from nwpackageversions import RequirementChecker, RequirementSummary, LanguageChecker\n",
    "\n",
    "print(LanguageChecker().get_version_status(required = (3, 12, 5)))"
   ]
  },
  {
   "cell_type": "code",
   "execution_count": 13,
   "metadata": {},
   "outputs": [
    {
     "name": "stdout",
     "output_type": "stream",
     "text": [
      "The status checking operation has started!\n",
      "The list of local packages will be loaded from the following 'file_path': '/workspaces/nwpackageversions/data/Dockerfile'.\n",
      "The 'waiting_time' between each fetching request will be: '5' seconds.\n",
      "'16' local packages has been found and successfully loaded.\n",
      "'12' unparsed lines.\n",
      "These are: ['FROM python:3.12.5-bookworm', '# MODULE DEPENDENCIES', \"RUN pip install 'git+https://github.com/numbworks/nwshared.git@v1.8.0#egg=nwshared&subdirectory=src'\", '# JUPYTER NOTEBOOK', \"RUN pip install 'git+https://github.com/numbworks/nwpackageversions.git@v1.8.0#egg=nwpackageversions&subdirectory=src'\", '# UNIT TESTING', 'RUN wget https://github.com/jgm/pandoc/releases/download/3.4/pandoc-3.4-1-amd64.deb \\\\', '    && dpkg -i pandoc-3.4-1-amd64.deb \\\\', '    && rm -f pandoc-3.4-1-amd64.deb', '# MAKEFILE', '# OTHERS', 'RUN pip install --upgrade pip==24.3.1']\n",
      "Now starting to evaluate the status of each local package...\n",
      "The total estimated time to complete the whole operation will be: '80' seconds.\n",
      "'only_stable_releases' is: 'True'.\n",
      "The status evaluation operation has been successfully completed.\n",
      "{ 'description': 'The current version ('2.1.2') of 'numpy' doesn't match with the most recent release ('2.2.1', '2024-12-21').' }\n",
      "{ 'description': 'The current version ('17.0.0') of 'pyarrow' doesn't match with the most recent release ('18.1.0', '2024-11-26').' }\n",
      "{ 'description': 'The current version ('3.9.2') of 'matplotlib' doesn't match with the most recent release ('3.10.0', '2024-12-14').' }\n",
      "{ 'description': 'The current version ('6.29.5') of 'ipykernel' doesn't match with the most recent release ('7.0.0a0', '2024-10-22').' }\n",
      "{ 'description': 'The current version ('1.1.0') of 'jupyter' doesn't match with the most recent release ('1.1.1', '2024-08-30').' }\n",
      "{ 'description': 'The current version ('7.6.4') of 'coverage' doesn't match with the most recent release ('7.6.10', '2024-12-26').' }\n",
      "{ 'description': 'The current version ('1.13.0') of 'mypy' doesn't match with the most recent release ('1.14.0', '2024-12-20').' }\n",
      "{ 'description': 'The current version ('2.2.3.241009') of 'pandas-stubs' doesn't match with the most recent release ('2.2.3.241126', '2024-11-26').' }\n",
      "{ 'description': 'The current version ('3.1.5.20241126') of 'types-openpyxl' doesn't match with the most recent release ('3.1.5.20241225', '2024-12-25').' }\n",
      "{ 'description': 'The current version ('3.1.5') of 'openpyxl' matches with the most recent release ('3.1.5', '2024-06-28').' }\n",
      "{ 'description': 'The current version ('2.2.3') of 'pandas' matches with the most recent release ('2.2.3', '2024-09-20').' }\n",
      "{ 'description': 'The current version ('2.32.3') of 'requests' matches with the most recent release ('2.32.3', '2024-05-29').' }\n",
      "{ 'description': 'The current version ('0.9.0') of 'tabulate' matches with the most recent release ('0.9.0', '2022-10-06').' }\n",
      "{ 'description': 'The current version ('0.9.0') of 'parameterized' matches with the most recent release ('0.9.0', '2023-03-27').' }\n",
      "{ 'description': 'The current version ('2.32.0.20241016') of 'types-requests' matches with the most recent release ('2.32.0.20241016', '2024-10-16').' }\n",
      "{ 'description': 'The current version ('6.0.1') of 'radon' matches with the most recent release ('6.0.1', '2023-03-26').' }\n",
      "Now starting the creation of a requirement summary...\n",
      "The requirement summary has been successfully created.\n",
      "{ 'total_packages': '16', 'matching': '7', 'matching_prc': '43.75%', 'mismatching': '9', 'mismatching_prc': '56.25%' }\n",
      "The status checking operation has been completed.\n"
     ]
    }
   ],
   "source": [
    "requirements_fp : str = r\"/workspaces/nwpackageversions/data/Dockerfile\"\n",
    "requirement_checker : RequirementChecker = RequirementChecker()\n",
    "requirement_summary : Optional[RequirementSummary] = requirement_checker.try_check(\n",
    "    file_path = requirements_fp, \n",
    "    only_stable_releases = True,\n",
    "    sort_requirement_details = True\n",
    "    )"
   ]
  },
  {
   "cell_type": "code",
   "execution_count": 14,
   "metadata": {},
   "outputs": [
    {
     "name": "stdout",
     "output_type": "stream",
     "text": [
      "{ 'total_packages': '16', 'matching': '7', 'matching_prc': '43.75%', 'mismatching': '9', 'mismatching_prc': '56.25%' }\n",
      "{ 'description': 'The current version ('2.1.2') of 'numpy' doesn't match with the most recent release ('2.2.1', '2024-12-21').' }\n",
      "{ 'description': 'The current version ('17.0.0') of 'pyarrow' doesn't match with the most recent release ('18.1.0', '2024-11-26').' }\n",
      "{ 'description': 'The current version ('3.9.2') of 'matplotlib' doesn't match with the most recent release ('3.10.0', '2024-12-14').' }\n",
      "{ 'description': 'The current version ('6.29.5') of 'ipykernel' doesn't match with the most recent release ('7.0.0a0', '2024-10-22').' }\n",
      "{ 'description': 'The current version ('1.1.0') of 'jupyter' doesn't match with the most recent release ('1.1.1', '2024-08-30').' }\n",
      "{ 'description': 'The current version ('7.6.4') of 'coverage' doesn't match with the most recent release ('7.6.10', '2024-12-26').' }\n",
      "{ 'description': 'The current version ('1.13.0') of 'mypy' doesn't match with the most recent release ('1.14.0', '2024-12-20').' }\n",
      "{ 'description': 'The current version ('2.2.3.241009') of 'pandas-stubs' doesn't match with the most recent release ('2.2.3.241126', '2024-11-26').' }\n",
      "{ 'description': 'The current version ('3.1.5.20241126') of 'types-openpyxl' doesn't match with the most recent release ('3.1.5.20241225', '2024-12-25').' }\n",
      "{ 'description': 'The current version ('3.1.5') of 'openpyxl' matches with the most recent release ('3.1.5', '2024-06-28').' }\n",
      "{ 'description': 'The current version ('2.2.3') of 'pandas' matches with the most recent release ('2.2.3', '2024-09-20').' }\n",
      "{ 'description': 'The current version ('2.32.3') of 'requests' matches with the most recent release ('2.32.3', '2024-05-29').' }\n",
      "{ 'description': 'The current version ('0.9.0') of 'tabulate' matches with the most recent release ('0.9.0', '2022-10-06').' }\n",
      "{ 'description': 'The current version ('0.9.0') of 'parameterized' matches with the most recent release ('0.9.0', '2023-03-27').' }\n",
      "{ 'description': 'The current version ('2.32.0.20241016') of 'types-requests' matches with the most recent release ('2.32.0.20241016', '2024-10-16').' }\n",
      "{ 'description': 'The current version ('6.0.1') of 'radon' matches with the most recent release ('6.0.1', '2023-03-26').' }\n"
     ]
    }
   ],
   "source": [
    "requirement_checker.log_requirement_summary(requirement_summary = cast(RequirementSummary, requirement_summary))"
   ]
  }
 ],
 "metadata": {
  "kernelspec": {
   "display_name": "Python 3",
   "language": "python",
   "name": "python3"
  },
  "language_info": {
   "codemirror_mode": {
    "name": "ipython",
    "version": 3
   },
   "file_extension": ".py",
   "mimetype": "text/x-python",
   "name": "python",
   "nbconvert_exporter": "python",
   "pygments_lexer": "ipython3",
   "version": "3.12.5"
  }
 },
 "nbformat": 4,
 "nbformat_minor": 2
}
